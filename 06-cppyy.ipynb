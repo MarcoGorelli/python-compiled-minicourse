{
 "cells": [
  {
   "cell_type": "markdown",
   "metadata": {
    "slideshow": {
     "slide_type": "slide"
    }
   },
   "source": [
    "# [CPPYY](http://cppyy.readthedocs.io/en/latest/)\n",
    "\n",
    "* Born from ROOT bindings (High Energy Physics, HEP)\n",
    "* Built on top of Cling (C++ Interpreter)\n",
    "* JIT, so can handle templates\n",
    "\n",
    "Downsides:\n",
    "\n",
    "* Header code runs in Cling\n",
    "* Heavy *user* requirements (Cling)\n",
    "* Conflicts with ROOT, can't be propery used in HEP"
   ]
  },
  {
   "cell_type": "code",
   "execution_count": null,
   "metadata": {
    "slideshow": {
     "slide_type": "subslide"
    }
   },
   "outputs": [],
   "source": [
    "import cppyy"
   ]
  },
  {
   "cell_type": "code",
   "execution_count": null,
   "metadata": {
    "slideshow": {
     "slide_type": "-"
    }
   },
   "outputs": [],
   "source": [
    "cppyy.include('swigfolder/SimpleClass.hpp')\n",
    "x = cppyy.gbl.Simple(5)\n",
    "x.get()"
   ]
  }
 ],
 "metadata": {
  "kernelspec": {
   "display_name": "Python 3",
   "language": "python",
   "name": "python3"
  },
  "language_info": {
   "codemirror_mode": {
    "name": "ipython",
    "version": 3
   },
   "file_extension": ".py",
   "mimetype": "text/x-python",
   "name": "python",
   "nbconvert_exporter": "python",
   "pygments_lexer": "ipython3",
   "version": "3.8.2"
  }
 },
 "nbformat": 4,
 "nbformat_minor": 4
}
