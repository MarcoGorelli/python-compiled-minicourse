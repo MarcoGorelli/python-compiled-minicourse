{
 "cells": [
  {
   "cell_type": "markdown",
   "metadata": {
    "slideshow": {
     "slide_type": "slide"
    }
   },
   "source": [
    "[![PyBind11](pybind11.png)](http://pybind11.readthedocs.io/en/stable/)\n",
    "\n",
    "* Similar to Boost::Python, but easier to build\n",
    "* Pure C++11 (no new language required), no dependencies\n",
    "* Builds remain simple and don't require preprocessing\n",
    "* Easy to customize result\n",
    "* Great Gitter community\n",
    "* Used in [GooFit 2.1+](https://goofit.github.io) for CUDA too [[CHEP talk]](https://indico.cern.ch/event/587955/contributions/2938087/)\n",
    "\n",
    "Downsides:\n",
    "* Still verbose\n",
    "* Development variable"
   ]
  },
  {
   "cell_type": "code",
   "execution_count": null,
   "metadata": {
    "slideshow": {
     "slide_type": "subslide"
    }
   },
   "outputs": [],
   "source": [
    "%%writefile pybindclass.cpp\n",
    "\n",
    "#include <pybind11/pybind11.h>\n",
    "#include \"SimpleClass.hpp\"\n",
    "\n",
    "namespace py = pybind11;\n",
    "\n",
    "PYBIND11_MODULE(pybindclass, m) {\n",
    "    py::class_<Simple>(m, \"Simple\")\n",
    "        .def(py::init<int>())\n",
    "        .def(\"get\", &Simple::get)\n",
    "    ;\n",
    "}"
   ]
  },
  {
   "cell_type": "code",
   "execution_count": null,
   "metadata": {
    "slideshow": {
     "slide_type": "subslide"
    }
   },
   "outputs": [],
   "source": [
    "!c++ -std=c++11 pybindclass.cpp -shared {inc} -o pybindclass.so {plat}"
   ]
  },
  {
   "cell_type": "code",
   "execution_count": null,
   "metadata": {},
   "outputs": [],
   "source": [
    "import pybindclass\n",
    "x = pybindclass.Simple(4)\n",
    "x.get()"
   ]
  },
  {
   "cell_type": "code",
   "execution_count": null,
   "metadata": {},
   "outputs": [],
   "source": []
  }
 ],
 "metadata": {
  "kernelspec": {
   "display_name": "Python 3",
   "language": "python",
   "name": "python3"
  },
  "language_info": {
   "codemirror_mode": {
    "name": "ipython",
    "version": 3
   },
   "file_extension": ".py",
   "mimetype": "text/x-python",
   "name": "python",
   "nbconvert_exporter": "python",
   "pygments_lexer": "ipython3",
   "version": "3.8.2"
  }
 },
 "nbformat": 4,
 "nbformat_minor": 4
}
