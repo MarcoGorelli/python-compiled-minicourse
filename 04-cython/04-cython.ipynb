{
 "cells": [
  {
   "cell_type": "markdown",
   "metadata": {
    "slideshow": {
     "slide_type": "slide"
    }
   },
   "source": [
    "[![Cython](cython.png)](http://cython.org)\n",
    "\n",
    "\n",
    "\n",
    "* Built to be a Python+C language for high performance computations\n",
    "* Performance computation space in competition with Numba\n",
    "* Due to design, also makes binding easy\n",
    "* Easy to customize result\n",
    "* Can write Python 2 or 3, regardless of calling language\n",
    "\n",
    "Downsides:\n",
    "* Requires learning a new(ish) language\n",
    "* Have to think with three hats\n",
    "* *Very* verbose"
   ]
  },
  {
   "cell_type": "markdown",
   "metadata": {
    "slideshow": {
     "slide_type": "subslide"
    }
   },
   "source": [
    "# Aside: Speed comparison Python, Cython, [Numba](https://numba.pydata.org)"
   ]
  },
  {
   "cell_type": "code",
   "execution_count": null,
   "metadata": {},
   "outputs": [],
   "source": [
    "def f(x):\n",
    "    for _ in range(100000000):\n",
    "        x=x+1\n",
    "    return x"
   ]
  },
  {
   "cell_type": "code",
   "execution_count": null,
   "metadata": {},
   "outputs": [],
   "source": [
    "%%time\n",
    "f(1)"
   ]
  },
  {
   "cell_type": "code",
   "execution_count": null,
   "metadata": {
    "slideshow": {
     "slide_type": "subslide"
    }
   },
   "outputs": [],
   "source": [
    "%load_ext Cython"
   ]
  },
  {
   "cell_type": "code",
   "execution_count": null,
   "metadata": {},
   "outputs": [],
   "source": [
    "%%cython\n",
    "def f(int x):\n",
    "    for _ in range(10000000):\n",
    "        x=x+1\n",
    "    return x"
   ]
  },
  {
   "cell_type": "code",
   "execution_count": null,
   "metadata": {},
   "outputs": [],
   "source": [
    "%%timeit\n",
    "f(23)"
   ]
  },
  {
   "cell_type": "code",
   "execution_count": null,
   "metadata": {
    "slideshow": {
     "slide_type": "subslide"
    }
   },
   "outputs": [],
   "source": [
    "import numba\n",
    "@numba.jit\n",
    "def f(x):\n",
    "    for _ in range(10000000):\n",
    "        x=x+1\n",
    "    return x"
   ]
  },
  {
   "cell_type": "code",
   "execution_count": null,
   "metadata": {},
   "outputs": [],
   "source": [
    "%time\n",
    "f(41)"
   ]
  },
  {
   "cell_type": "code",
   "execution_count": null,
   "metadata": {},
   "outputs": [],
   "source": [
    "%%timeit\n",
    "f(41)"
   ]
  },
  {
   "cell_type": "markdown",
   "metadata": {
    "slideshow": {
     "slide_type": "subslide"
    }
   },
   "source": [
    "# Binding with [Cython](https://cython.org)"
   ]
  },
  {
   "cell_type": "code",
   "execution_count": null,
   "metadata": {
    "slideshow": {
     "slide_type": "-"
    }
   },
   "outputs": [],
   "source": [
    "%%writefile simpleclass.pxd\n",
    "# distutils: language = c++\n",
    "\n",
    "cdef extern from \"SimpleClass.hpp\":\n",
    "    cdef cppclass Simple:\n",
    "        Simple(int x)\n",
    "        int get()"
   ]
  },
  {
   "cell_type": "code",
   "execution_count": null,
   "metadata": {
    "slideshow": {
     "slide_type": "subslide"
    }
   },
   "outputs": [],
   "source": [
    "%%writefile cythonclass.pyx\n",
    "# distutils: language = c++\n",
    "\n",
    "from simpleclass cimport Simple as cSimple\n",
    "\n",
    "cdef class Simple:\n",
    "    cdef cSimple *cself\n",
    "    \n",
    "    def __cinit__(self, int x):\n",
    "        self.cself = new cSimple(x)\n",
    "    \n",
    "    def get(self):\n",
    "        return self.cself.get()\n",
    "    \n",
    "    def __dealloc__(self):\n",
    "        del self.cself"
   ]
  },
  {
   "cell_type": "code",
   "execution_count": null,
   "metadata": {
    "slideshow": {
     "slide_type": "subslide"
    }
   },
   "outputs": [],
   "source": [
    "!cythonize cythonclass.pyx"
   ]
  },
  {
   "cell_type": "code",
   "execution_count": null,
   "metadata": {},
   "outputs": [],
   "source": [
    "!g++ cythonclass.cpp -shared {inc} -o cythonclass.so {plat}"
   ]
  },
  {
   "cell_type": "code",
   "execution_count": null,
   "metadata": {},
   "outputs": [],
   "source": [
    "import cythonclass\n",
    "x = cythonclass.Simple(3)\n",
    "x.get()"
   ]
  }
 ],
 "metadata": {
  "kernelspec": {
   "display_name": "Python 3",
   "language": "python",
   "name": "python3"
  },
  "language_info": {
   "codemirror_mode": {
    "name": "ipython",
    "version": 3
   },
   "file_extension": ".py",
   "mimetype": "text/x-python",
   "name": "python",
   "nbconvert_exporter": "python",
   "pygments_lexer": "ipython3",
   "version": "3.8.2"
  }
 },
 "nbformat": 4,
 "nbformat_minor": 4
}
