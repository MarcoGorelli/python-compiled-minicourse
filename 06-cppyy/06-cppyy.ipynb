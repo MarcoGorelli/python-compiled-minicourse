{
 "cells": [
  {
   "cell_type": "markdown",
   "metadata": {
    "slideshow": {
     "slide_type": "slide"
    }
   },
   "source": [
    "# [CPPYY](http://cppyy.readthedocs.io/en/latest/)\n",
    "\n",
    "* Born from ROOT bindings (High Energy Physics, HEP)\n",
    "* Built on top of Cling (C++ Interpreter)\n",
    "* JIT, so can handle templates\n",
    "\n",
    "Downsides:\n",
    "\n",
    "* Header code runs in Cling (JIT)\n",
    "* Heavy *user* requirement (Cling)\n",
    "* Conflicts with ROOT, can't be propery used in HEP (probably not a worry for anyone here)"
   ]
  },
  {
   "cell_type": "code",
   "execution_count": 4,
   "metadata": {
    "slideshow": {
     "slide_type": "subslide"
    }
   },
   "outputs": [],
   "source": [
    "import cppyy"
   ]
  },
  {
   "cell_type": "code",
   "execution_count": null,
   "metadata": {
    "slideshow": {
     "slide_type": "-"
    }
   },
   "outputs": [],
   "source": [
    "cppyy.include('SimpleClass.hpp')\n",
    "x = cppyy.gbl.Simple(5)\n",
    "x.get()"
   ]
  },
  {
   "cell_type": "code",
   "execution_count": 2,
   "metadata": {
    "slideshow": {
     "slide_type": "-"
    }
   },
   "outputs": [
    {
     "name": "stdout",
     "output_type": "stream",
     "text": [
      "Overwriting SimpleTemplate.hpp\n"
     ]
    }
   ],
   "source": [
    "%%writefile SimpleTemplate.hpp\n",
    "#pragma once\n",
    "\n",
    "template<class T>\n",
    "T square(T x) {\n",
    "    return x*x;\n",
    "}"
   ]
  },
  {
   "cell_type": "code",
   "execution_count": 5,
   "metadata": {
    "slideshow": {
     "slide_type": "-"
    }
   },
   "outputs": [
    {
     "data": {
      "text/plain": [
       "25"
      ]
     },
     "execution_count": 5,
     "metadata": {},
     "output_type": "execute_result"
    }
   ],
   "source": [
    "cppyy.include('SimpleTemplate.hpp')\n",
    "cppyy.gbl.square(5)"
   ]
  },
  {
   "cell_type": "code",
   "execution_count": 6,
   "metadata": {},
   "outputs": [
    {
     "data": {
      "text/plain": [
       "6.25"
      ]
     },
     "execution_count": 6,
     "metadata": {},
     "output_type": "execute_result"
    }
   ],
   "source": [
    "cppyy.gbl.square(2.5)"
   ]
  },
  {
   "cell_type": "markdown",
   "metadata": {},
   "source": [
    "This is the only technology (JIT) that can do this with tempalates! In PyBind11, you would build a list of overloads. Or in Cython, you would build a Fused Template. In both cases, you pick the types you bind beforehand. JIT can do the compilation on the fly!"
   ]
  }
 ],
 "metadata": {
  "kernelspec": {
   "display_name": "Python 3",
   "language": "python",
   "name": "python3"
  },
  "language_info": {
   "codemirror_mode": {
    "name": "ipython",
    "version": 3
   },
   "file_extension": ".py",
   "mimetype": "text/x-python",
   "name": "python",
   "nbconvert_exporter": "python",
   "pygments_lexer": "ipython3",
   "version": "3.8.2"
  }
 },
 "nbformat": 4,
 "nbformat_minor": 4
}
