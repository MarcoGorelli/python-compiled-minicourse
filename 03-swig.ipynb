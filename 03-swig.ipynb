{
 "cells": [
  {
   "cell_type": "markdown",
   "metadata": {
    "slideshow": {
     "slide_type": "slide"
    }
   },
   "source": [
    "# C++: Why do we need more?\n",
    "\n",
    "* Sometimes simple is enough!\n",
    "* `export \"C\"` allows C++ backend\n",
    "* C++ API can have: overloading, classes, memory management, etc...\n",
    "* We could manually translate everything using C API\n",
    "\n",
    "### Solution:\n",
    "\n",
    "C++ binding tools!"
   ]
  },
  {
   "cell_type": "markdown",
   "metadata": {
    "slideshow": {
     "slide_type": "subslide"
    }
   },
   "source": [
    "This is our C++ example:"
   ]
  },
  {
   "cell_type": "code",
   "execution_count": null,
   "metadata": {},
   "outputs": [],
   "source": [
    "%mkdir swigfolder\n",
    "%cd swigfolder"
   ]
  },
  {
   "cell_type": "code",
   "execution_count": null,
   "metadata": {
    "slideshow": {
     "slide_type": "-"
    }
   },
   "outputs": [],
   "source": [
    "%%writefile SimpleClass.hpp\n",
    "#pragma once\n",
    "\n",
    "class Simple {\n",
    "    int x;\n",
    "  public:\n",
    "    Simple(int x): x(x) {}\n",
    "    int get() const {return x;}\n",
    "};"
   ]
  },
  {
   "cell_type": "markdown",
   "metadata": {
    "slideshow": {
     "slide_type": "slide"
    }
   },
   "source": [
    "[![SWIG](swigfull.png)](swig.org)\n",
    "\n",
    "* SWIG: Produces \"automatic\" bindings\n",
    "* Works with many output languages\n",
    "* Has supporting module built into CMake\n",
    "* Very mature\n",
    "\n",
    "Downsides:\n",
    "\n",
    "* Can be all or nothing\n",
    "* Hard to customize\n",
    "* Customizations tend to be language specific\n",
    "* Slow development"
   ]
  },
  {
   "cell_type": "code",
   "execution_count": null,
   "metadata": {
    "slideshow": {
     "slide_type": "subslide"
    }
   },
   "outputs": [],
   "source": [
    "%%writefile swigexample.i\n",
    "\n",
    "%module swigexample\n",
    "%{\n",
    "/* Includes the header in the wrapper code */\n",
    "#include \"SimpleClass.hpp\"\n",
    "%}\n",
    " \n",
    "/* Parse the header file to generate wrappers */\n",
    "%include \"SimpleClass.hpp\""
   ]
  },
  {
   "cell_type": "code",
   "execution_count": null,
   "metadata": {
    "slideshow": {
     "slide_type": "subslide"
    }
   },
   "outputs": [],
   "source": [
    "!swig -python -py3 -c++ swigexample.i "
   ]
  },
  {
   "cell_type": "code",
   "execution_count": null,
   "metadata": {},
   "outputs": [],
   "source": [
    "%%writefile setup.py\n",
    "\n",
    "from setuptools import setup, Extension\n",
    "\n",
    "module1 = Extension('_swigexample',\n",
    "                    sources=['swigexample_wrap.cxx'],\n",
    "                    language='cxx',\n",
    "                   )\n",
    "\n",
    "setup(name='swigexample', ext_modules=[module1])"
   ]
  },
  {
   "cell_type": "code",
   "execution_count": null,
   "metadata": {},
   "outputs": [],
   "source": [
    "!python setup.py build_ext --inplace"
   ]
  },
  {
   "cell_type": "code",
   "execution_count": null,
   "metadata": {},
   "outputs": [],
   "source": [
    "import swigexample\n",
    "x = swigexample.Simple(2)\n",
    "x.get()"
   ]
  }
 ],
 "metadata": {
  "kernelspec": {
   "display_name": "Python 3",
   "language": "python",
   "name": "python3"
  },
  "language_info": {
   "codemirror_mode": {
    "name": "ipython",
    "version": 3
   },
   "file_extension": ".py",
   "mimetype": "text/x-python",
   "name": "python",
   "nbconvert_exporter": "python",
   "pygments_lexer": "ipython3",
   "version": "3.8.2"
  }
 },
 "nbformat": 4,
 "nbformat_minor": 4
}
